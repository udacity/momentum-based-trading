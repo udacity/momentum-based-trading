{
 "cells": [
  {
   "cell_type": "markdown",
   "id": "8751bcea-b752-4064-aad2-531bcc2616fe",
   "metadata": {},
   "source": [
    "# Project"
   ]
  },
  {
   "cell_type": "markdown",
   "id": "ea94455a-ec49-4b3c-8443-07a250f06501",
   "metadata": {},
   "source": [
    "Re-organize your code from the exercises into a Python program that \n",
    "1. read prices from a database\n",
    "2. calibrate a GBM model on each day when new prices are received.\n",
    "3. forecast the price in e.g. 10 days and\n",
    "   1. calculate the confidence interval of the forecast\n",
    "   2. calculate the expected shortfall from the price forecast\n",
    "4. code your trading signals using the price forecast and the expected shortfall.\n",
    "5. store your postions into the *positions* table after each trade.\n",
    "6. produce a 1-year backtest record from 2020-06-01 to 2021-05-31.\n",
    "\n",
    "**Hint**\n",
    "\n",
    "1. Collect all the code related to the GBM model into a class"
   ]
  },
  {
   "cell_type": "code",
   "execution_count": null,
   "id": "1fbcd9e3-631a-448a-af5f-94a2c9e74d85",
   "metadata": {},
   "outputs": [],
   "source": [
    "import numpy as np\n",
    "import csv\n",
    "import sqlite3\n",
    "from scipy.stats import norm\n",
    "from contextlib import closing\n",
    "\n",
    "conn = None\n",
    "cs = None\n",
    "\n",
    "class GBM:\n",
    "    def __init__(self):\n",
    "        self.mu = np.nan;\n",
    "        self.sigma = np.nan;\n",
    "        self.rng = np.random.default_rng()\n",
    "        \n",
    "    def simulate(self, N, K, Dt, S0):\n",
    "        sqrt_Dt = np.sqrt(Dt)\n",
    "        traj = np.full((N+1, K), np.nan)\n",
    "        drift = (self.mu - self.sigma**2/2) * np.linspace(1, N, N) * Dt\n",
    "        for i in range(K):\n",
    "            W = sqrt_Dt * np.cumsum(norm.rvs(size=N))\n",
    "            traj[1:, i] = S0 * np.exp(drift + self.sigma * W)\n",
    "            traj[0, i] = S0\n",
    "        return traj;\n",
    "\n",
    "    def calibrate(self, trajectory, Dt):\n",
    "        increments = np.diff(np.log(trajectory));\n",
    "        moments = [0, 0];\n",
    "        n_iter = 10;\n",
    "        for iter in range(n_iter):\n",
    "            X = self.rng.choice(increments, size=len(increments)//2)\n",
    "            moments[0] += np.mean(X)/n_iter;\n",
    "            moments[1] += np.mean(X**2)/n_iter\n",
    "        std = np.sqrt(moments[1] - moments[0]**2);\n",
    "        self.sigma = std/np.sqrt(Dt);\n",
    "        self.mu = moments[0] / Dt + self.sigma**2/2;\n",
    "\n",
    "    def forecast(self, latest, T, confidence):\n",
    "        m = (self.mu - self.sigma**2/2)/2 * T;\n",
    "        s = self.sigma * np.sqrt(T);\n",
    "        Q = norm.ppf([(1-confidence)/2, (1+confidence)/2], loc=m, scale=s)\n",
    "        return {\n",
    "            'confidence': confidence,\n",
    "            'expected': latest * np.exp(m),\n",
    "            'interval': latest * np.exp(Q)\n",
    "        };\n",
    "\n",
    "    def expected_shortfall(self, T, confidence):\n",
    "        m = (self.mu - self.sigma**2/2)/2 * T;\n",
    "        s = self.sigma * np.sqrt(T);\n",
    "        ES = -m + s * norm.pdf(norm.ppf(confidence))/(1 - confidence);\n",
    "        return ES;\n",
    "\n"
   ]
  },
  {
   "cell_type": "markdown",
   "id": "64b471cd-b2fb-449c-9c96-386b07307f90",
   "metadata": {},
   "source": [
    "2. Write a function that prepares the database for trading, i.e.\n",
    "   1. load the historical prices into the *prices* table\n",
    "   2. create the *positions* table\n",
    "   3. initialize the *positions* table with the your initial cash reserve. The initial *time_of_trade* can be any date before the earliest possible trading date.\n",
    "\n",
    "    Call this function *prepare*."
   ]
  },
  {
   "cell_type": "code",
   "execution_count": 1,
   "id": "b83d468e-d4af-48de-a7db-354a8b12cb43",
   "metadata": {},
   "outputs": [],
   "source": [
    "def prepare():\n",
    "    cs.execute(\"\"\"\n",
    "    create table if not exists prices (\n",
    "    theday text primary key,\n",
    "    price real\n",
    "    );\n",
    "    \"\"\")\n",
    "    with closing(open('SP500.csv')) as datafile:\n",
    "        reader = csv.DictReader(datafile, fieldnames=[\"date\", \"price\"], delimiter='\\t')\n",
    "        for row in reader:\n",
    "            cs.execute(F\"\"\"\n",
    "            insert or ignore into prices values (\\\"{row['date']}\\\",\n",
    "            {float(row['price'])});\n",
    "            \"\"\")\n",
    "    cs.execute(F\"\"\"\n",
    "    create table if not exists positions (\n",
    "    time_of_trade text,\n",
    "    instrument text,\n",
    "    quantity real,\n",
    "    cash real,\n",
    "    primary key (time_of_trade, instrument)\n",
    "    );\n",
    "    \"\"\");\n",
    "    cs.execute(F\"\"\"\n",
    "    insert or ignore into positions values\n",
    "    ('1666-01-01', 'SP500', 0, 1000000);\n",
    "    \"\"\")\n",
    "    conn.commit()\n"
   ]
  },
  {
   "cell_type": "markdown",
   "id": "09f0738b-a96b-4ff5-b2ea-4997f9278d36",
   "metadata": {},
   "source": [
    "3. Write a function that determines the trade size, i.e. how many units of the instrument you would like to own when the date is *which_day* and the price forecast of the instrument is *forecast* and the expected shortfall from the same forecast is *ES*."
   ]
  },
  {
   "cell_type": "code",
   "execution_count": 4,
   "id": "96b94a50-5967-4ae5-a1a8-d9dd337f6eee",
   "metadata": {},
   "outputs": [],
   "source": [
    "def position_size(which_day, forecast, ES):\n",
    "    cs.execute(F\"\"\"\n",
    "    select quantity, cash from positions\n",
    "    where instrument = 'SP500'\n",
    "    and time_of_trade < '{which_day}'\n",
    "    order by time_of_trade desc\n",
    "    limit 1;\n",
    "    \"\"\")\n",
    "    qty, cash = cs.fetchall()[0]\n",
    "    cs.execute(F\"\"\"\n",
    "    select price from prices\n",
    "    where theday <= '{which_day}'\n",
    "    order by theday desc\n",
    "    limit 1;\n",
    "    \"\"\");\n",
    "    price = cs.fetchall()[0][0]\n",
    "    if price < forecast['interval'][0]:\n",
    "        return qty + round(cash/price)\n",
    "    elif price > forecast['interval'][1]:\n",
    "        return -qty\n",
    "    else:\n",
    "        return qty\n"
   ]
  },
  {
   "cell_type": "markdown",
   "id": "a8679440-f71b-4828-896b-123358c8d4db",
   "metadata": {},
   "source": [
    "4. Write a function that, for a given date, calibrates a GBM model to the data prior to that date and that forecasts the price in 10 days. Call this function *analyse*."
   ]
  },
  {
   "cell_type": "code",
   "execution_count": 5,
   "id": "1afdaafb-9564-4032-8c69-8e6f7b961f2a",
   "metadata": {},
   "outputs": [],
   "source": [
    "def analyse(which_day):\n",
    "    cs.execute(F\"\"\"\n",
    "    select price from prices where theday <= '{which_day}'\n",
    "    order by theday desc limit 120;\n",
    "    \"\"\")\n",
    "    P = np.flipud(np.asarray(cs.fetchall())).flatten();\n",
    "    model = GBM();\n",
    "    Dt = 1.0/250;\n",
    "    model.calibrate(P, Dt);\n",
    "    confidence = 0.95\n",
    "    T = 10 * Dt;\n",
    "    forecast = model.forecast(P[-1], T, confidence);\n",
    "    ES = model.expected_shortfall(T, confidence);\n",
    "    return position_size(which_day, forecast, ES);\n",
    "    \n"
   ]
  },
  {
   "cell_type": "markdown",
   "id": "45307c50-058c-4260-b278-450833e25d03",
   "metadata": {},
   "source": [
    "5. The main loop of the program: Loop over the dates in the backtest period and use the *analyse* function to decide what to do on each day. Call this function *main*."
   ]
  },
  {
   "cell_type": "code",
   "execution_count": 6,
   "id": "a60d62df-2565-4fe4-bd9c-d9bc508e6444",
   "metadata": {},
   "outputs": [],
   "source": [
    "def main():\n",
    "    cs.execute(F\"select theday from prices where theday >= '2020-06-01';\")\n",
    "    days = [d[0] for d in cs.fetchall()]\n",
    "    asset = {\n",
    "        'old': np.nan,\n",
    "        'new': np.nan\n",
    "    };\n",
    "    cash = {\n",
    "        'old': np.nan,\n",
    "        'new': np.nan\n",
    "    };\n",
    "    for d in days:\n",
    "        asset['new'] = analyse(d)\n",
    "        cs.execute(F\"\"\"\n",
    "        select quantity, cash from positions\n",
    "        where time_of_trade < '{d}'\n",
    "        order by time_of_trade desc\n",
    "        limit 1;\n",
    "        \"\"\");\n",
    "        asset['old'], cash['old'] = cs.fetchall()[0];\n",
    "        cs.execute(F\"\"\"\n",
    "        select price from prices\n",
    "        where theday <= '{d}'\n",
    "        order by theday desc\n",
    "        limit 1;\n",
    "        \"\"\");\n",
    "        latest = cs.fetchall()[0][0]\n",
    "        if round(asset['new']) != 0:\n",
    "            cash['new'] = cash['old'] - asset['new'] * latest;\n",
    "            cs.execute(F\"\"\"\n",
    "            insert into positions values\n",
    "            ('{d}', 'SP500', {asset['new']}, {cash['new']});\n",
    "            \"\"\");\n",
    "        conn.commit();\n",
    "    \n"
   ]
  },
  {
   "cell_type": "markdown",
   "id": "a31f680e-2167-4430-969e-9078c198785a",
   "metadata": {},
   "source": [
    "6. Connect to the database and create a *cursor* object associated with the connection. Share the connection and the cursor object across the program so that you don't have to connect to and disconnect from the database in every function of the program."
   ]
  },
  {
   "cell_type": "code",
   "execution_count": null,
   "id": "ea240d4b-57f8-41e9-897b-c95ab1016adf",
   "metadata": {},
   "outputs": [],
   "source": [
    "if __name__ == \"__main__\":\n",
    "    with closing(sqlite3.connect(\"SP500.db\")) as conn:\n",
    "        with closing(conn.cursor()) as cs:\n",
    "            prepare()\n",
    "            main()\n",
    "    \n"
   ]
  },
  {
   "cell_type": "code",
   "execution_count": null,
   "id": "c2c96d2b-d074-4796-ac96-eb3c4a82d70a",
   "metadata": {},
   "outputs": [],
   "source": []
  }
 ],
 "metadata": {
  "kernelspec": {
   "display_name": "Python 3 (ipykernel)",
   "language": "python",
   "name": "python3"
  },
  "language_info": {
   "codemirror_mode": {
    "name": "ipython",
    "version": 3
   },
   "file_extension": ".py",
   "mimetype": "text/x-python",
   "name": "python",
   "nbconvert_exporter": "python",
   "pygments_lexer": "ipython3",
   "version": "3.11.6"
  }
 },
 "nbformat": 4,
 "nbformat_minor": 5
}
